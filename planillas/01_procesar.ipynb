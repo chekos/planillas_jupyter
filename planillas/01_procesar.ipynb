{
 "cells": [
  {
   "cell_type": "markdown",
   "metadata": {},
   "source": [
    "# 01 Procesamiento de Datos: [NOMBRE_DEL_PROYECTO]\n",
    "\n",
    "##### Metas:\n",
    "1. Limpiar las columnas XXX \n",
    "2. Reordenar el **dataset** a un formato útil\n",
    "3. Identificar variables útiles/de interés\n",
    "\n",
    "##### Cambios:\n",
    "* fecha_del_ultimo_cambio: Descripción del cambio.\n",
    "* otro cambio: otra descripción.\n",
    "\n",
    "***\n",
    "__Preparación__"
   ]
  },
  {
   "cell_type": "code",
   "execution_count": null,
   "metadata": {},
   "outputs": [],
   "source": [
    "import pandas as pd\n",
    "from pathlib import Path\n",
    "from datetime import datetime"
   ]
  },
  {
   "cell_type": "code",
   "execution_count": null,
   "metadata": {},
   "outputs": [],
   "source": [
    "# Inicializa rutas hacia los archivos.\n",
    "fecha_hoy = datetime.today()\n",
    "archivos_en_bruto = Path(\"../datos/en_bruto/\")\n",
    "archivos_procesados = Path(\"../datos/procesados/\")\n",
    "archivo_final = Path(\"../datos/procesados/\") / f\"datos_procesados_{fecha_hoy:%b-%d-%Y}.csv\""
   ]
  },
  {
   "cell_type": "code",
   "execution_count": null,
   "metadata": {},
   "outputs": [],
   "source": [
    "archivo = archivos_en_bruto / 'REEMPLAZA_ESTO_CON_EL_NOMBRE_DE_TU_ARCHIVO'"
   ]
  },
  {
   "cell_type": "code",
   "execution_count": null,
   "metadata": {},
   "outputs": [],
   "source": [
    "# Leer y describir el conjunto de datos.\n",
    "datos = pd.read_csv(archivo)\n",
    "\n",
    "print(\"-\"*25)\n",
    "print(f\"{datos.shape[0]} filas, {datos.shape[1]} columnas.\")\n",
    "print(\"-\"*25)\n",
    "datos.describe()\n",
    "print(\"-\"*25)\n",
    "datos.head()"
   ]
  }
 ],
 "metadata": {
  "kernelspec": {
   "display_name": "Python 3",
   "language": "python",
   "name": "python3"
  },
  "language_info": {
   "codemirror_mode": {
    "name": "ipython",
    "version": 3
   },
   "file_extension": ".py",
   "mimetype": "text/x-python",
   "name": "python",
   "nbconvert_exporter": "python",
   "pygments_lexer": "ipython3",
   "version": "3.7.1"
  }
 },
 "nbformat": 4,
 "nbformat_minor": 2
}
