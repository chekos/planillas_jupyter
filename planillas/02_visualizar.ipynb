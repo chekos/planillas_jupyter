{
 "cells": [
  {
   "cell_type": "markdown",
   "metadata": {},
   "source": [
    "# 02 Visualizaciones: [NOMBRE_DEL_PROYECTO]\n",
    "\n",
    "##### Gráficos por hacer:\n",
    "1. Enlace a gráfico de ejemplo\n",
    "2. Imagenes de ../reportes/figuras/\n",
    "3. \n",
    "\n",
    "##### Cambios:\n",
    "* fecha_del_ultimo_cambio: Descripción del cambio.\n",
    "* otro cambio: otra descripción.\n",
    "\n",
    "***\n",
    "__Preparación__"
   ]
  },
  {
   "cell_type": "code",
   "execution_count": null,
   "metadata": {},
   "outputs": [],
   "source": [
    "import altair as alt\n",
    "import pandas as pd\n",
    "from pathlib import Path\n",
    "from datetime import datetime"
   ]
  },
  {
   "cell_type": "code",
   "execution_count": null,
   "metadata": {},
   "outputs": [],
   "source": [
    "# Inicializa rutas hacia los archivos.\n",
    "fecha_hoy = datetime.today()\n",
    "archivos_procesados = Path(\"../datos/procesados/\")"
   ]
  },
  {
   "cell_type": "code",
   "execution_count": null,
   "metadata": {},
   "outputs": [],
   "source": [
    "archivo = archivos_procesados / 'REEMPLAZA_ESTO_CON_EL_NOMBRE_DE_TU_ARCHIVO'"
   ]
  },
  {
   "cell_type": "code",
   "execution_count": null,
   "metadata": {},
   "outputs": [],
   "source": [
    "datos = pd.read_csv(archivo)\n",
    "\n",
    "datos.head()"
   ]
  },
  {
   "cell_type": "code",
   "execution_count": null,
   "metadata": {},
   "outputs": [],
   "source": [
    "titulo_1 = \"Título del Gráfico\"\n",
    "\n",
    "grafico_1 = alt.Chart(datos).mark_bar().encode(\n",
    "    x = alt.X(),\n",
    "    y = alt.Y(),\n",
    "    color = alt.Color()\n",
    ").properties(\n",
    "    height = 400,\n",
    "    width = 600,\n",
    "    title = f\"{titulo_1}\"\n",
    ")\n",
    "\n",
    "grafico_1"
   ]
  },
  {
   "cell_type": "code",
   "execution_count": null,
   "metadata": {},
   "outputs": [],
   "source": [
    "titulo_2 = \"Título del 2do Gráfico\"\n",
    "\n",
    "grafico_2 = alt.Chart(datos).mark_line().encode(\n",
    "    x = alt.X(),\n",
    "    y = alt.Y(),\n",
    "    color = alt.Color()\n",
    ").properties(\n",
    "    height = 400,\n",
    "    width = 600,\n",
    "    title = f\"{titulo_2}\"\n",
    ")"
   ]
  }
 ],
 "metadata": {
  "kernelspec": {
   "display_name": "Python 3",
   "language": "python",
   "name": "python3"
  },
  "language_info": {
   "codemirror_mode": {
    "name": "ipython",
    "version": 3
   },
   "file_extension": ".py",
   "mimetype": "text/x-python",
   "name": "python",
   "nbconvert_exporter": "python",
   "pygments_lexer": "ipython3",
   "version": "3.7.1"
  }
 },
 "nbformat": 4,
 "nbformat_minor": 2
}
