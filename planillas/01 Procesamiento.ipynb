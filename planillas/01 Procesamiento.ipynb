{
 "cells": [
  {
   "cell_type": "markdown",
   "metadata": {},
   "source": [
    "# 01 Procesamiento de Datos: [NOMBRE_DEL_PROYECTO]\n",
    "\n",
    "Metas:\n",
    "1. Limpiar las columnas XXX \n",
    "2. Reordenar el **dataset** a un formato útil\n",
    "3. Identificar variables útiles/de interés\n",
    "\n",
    "***\n",
    "__Preparación__"
   ]
  },
  {
   "cell_type": "code",
   "execution_count": null,
   "metadata": {},
   "outputs": [],
   "source": [
    "import pandas as pd\n",
    "from IPython.core.interactiveshell import InteractiveShell\n",
    "\n",
    "# Esto te permite exhibir más de un OUTPUT por cell\n",
    "InteractiveShell.ast_node_interactivity = \"all\""
   ]
  },
  {
   "cell_type": "code",
   "execution_count": null,
   "metadata": {},
   "outputs": [],
   "source": [
    "archivo = \"../data/NOMBRE_DEL_DATASET.csv\""
   ]
  },
  {
   "cell_type": "code",
   "execution_count": null,
   "metadata": {},
   "outputs": [],
   "source": [
    "df = pd.read_csv(archivo)\n",
    "\n",
    "print(\"-\"*25)\n",
    "print(f\"{df.shape[0]} rows, {df.shape[1]} columns.\")\n",
    "print(\"-\"*25)\n",
    "df.describe()\n",
    "print(\"-\"*25)\n",
    "df.head()"
   ]
  }
 ],
 "metadata": {
  "kernelspec": {
   "display_name": "Python 3",
   "language": "python",
   "name": "python3"
  },
  "language_info": {
   "codemirror_mode": {
    "name": "ipython",
    "version": 3
   },
   "file_extension": ".py",
   "mimetype": "text/x-python",
   "name": "python",
   "nbconvert_exporter": "python",
   "pygments_lexer": "ipython3",
   "version": "3.6.7"
  }
 },
 "nbformat": 4,
 "nbformat_minor": 2
}
